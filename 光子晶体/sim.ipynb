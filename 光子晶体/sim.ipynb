{
 "cells": [
  {
   "cell_type": "code",
   "execution_count": 1,
   "metadata": {},
   "outputs": [],
   "source": [
    "import numpy as np\n",
    "import matplotlib.pyplot as plt"
   ]
  },
  {
   "cell_type": "markdown",
   "metadata": {},
   "source": [
    "一个矩阵：\n",
    "$$\n",
    "\\begin{bmatrix}\n",
    "\t\\cosh{\\gamma l} & Z_{01}\\sinh{\\gamma l} \\\\\n",
    "\t\\frac{1}{Z_{01}}\\sinh{\\gamma l} & \\cosh{\\gamma l}\n",
    "\\end{bmatrix}\n",
    "$$\n",
    "\n",
    "解：$v_L=\\frac{e}{[1\\quad Z_0]A_T[1\\quad 1/Z_0]^T}$\n",
    "\n",
    "计算群速度：$v_g=c/(n+\\omega\\frac{dn}{d\\omega})$，其中$n=ct_p/L$，$\\phi=-\\omega t_p$"
   ]
  },
  {
   "cell_type": "code",
   "execution_count": 2,
   "metadata": {},
   "outputs": [
    {
     "name": "stderr",
     "output_type": "stream",
     "text": [
      "/tmp/ipykernel_25535/1792318438.py:13: DeprecationWarning: Conversion of an array with ndim > 0 to a scalar is deprecated, and will error in future. Ensure you extract a single element from your array before performing this operation. (Deprecated NumPy 1.25.)\n",
      "  vl[i] = 10/(np.matrix([1,50])*at*np.matrix([[1],[1/50]]))\n",
      "/tmp/ipykernel_25535/1792318438.py:16: DeprecationWarning: Conversion of an array with ndim > 0 to a scalar is deprecated, and will error in future. Ensure you extract a single element from your array before performing this operation. (Deprecated NumPy 1.25.)\n",
      "  vld[i] = 10/(np.matrix([1,50])*atd*np.matrix([[1],[1/50]]))\n"
     ]
    }
   ],
   "source": [
    "lc = 8.854187817E-12*2.354*1*1.25663706E-6\n",
    "p0 = 0.5\n",
    "freqa = np.arange(1,60.1,0.1)\n",
    "vl = np.zeros(freqa.shape[0],dtype=np.complex128)\n",
    "vld = np.zeros(freqa.shape[0],dtype=np.complex128)\n",
    "i = 0\n",
    "for freq in freqa:\n",
    "    gamma = complex(1.810E-6,2*np.pi*freq*1E6*np.sqrt(lc))\n",
    "    a1 = np.matrix([[np.cosh(gamma*4.8),25*np.sinh(gamma*4.8)],[1/25*np.sinh(gamma*4.8),np.cosh(gamma*4.8)]])\n",
    "    a2 = np.matrix([[np.cosh(gamma*4.8),50*np.sinh(gamma*4.8)],[1/50*np.sinh(gamma*4.8),np.cosh(gamma*4.8)]])\n",
    "    #无缺陷\n",
    "    at = a1*a2*a1*a2*a1*a2*a1\n",
    "    vl[i] = 10/(np.matrix([1,50])*at*np.matrix([[1],[1/50]]))\n",
    "    #有缺陷\n",
    "    atd = a1*a2*a1*a2*a2*a1*a2*a1\n",
    "    vld[i] = 10/(np.matrix([1,50])*atd*np.matrix([[1],[1/50]]))\n",
    "    i += 1\n",
    "phi = np.angle(vl)\n",
    "phi = np.unwrap(phi)\n",
    "tp = - phi / (freqa*1E6*2*np.pi)\n",
    "n = 299792458*tp/33.6\n",
    "vg=np.zeros(freqa.shape[0]-1)\n",
    "for i in range(1,freqa.shape[0]):\n",
    "    vg[i-1] = 299792458/(n[i]+freqa[i]*1E6*2*np.pi*((n[i]-n[i-1])/((freqa[i]-freqa[i-1])*1E6*2*np.pi)))\n",
    "phid = np.angle(vld)\n",
    "phid = np.unwrap(phid)\n",
    "tpd = - phid / (freqa*1E6*2*np.pi)\n",
    "nd = 299792458*tpd/38.4\n",
    "vgd=np.zeros(freqa.shape[0]-1)\n",
    "for i in range(1,freqa.shape[0]):\n",
    "    vgd[i-1] = 299792458/(nd[i]+freqa[i]*1E6*2*np.pi*((nd[i]-nd[i-1])/((freqa[i]-freqa[i-1])*1E6*2*np.pi)))\n",
    "eta = np.square(np.abs(vl)) / 50 / p0\n",
    "etad = np.square(np.abs(vld)) / 50 / p0\n",
    "def plotData(eta, n, vg, freqa, filename):\n",
    "    fig, axs = plt.subplots(2, 1, sharex=True, figsize=(8, 10))\n",
    "    axs[0].set_ylim(0)\n",
    "    axs[0].plot(freqa, eta)\n",
    "    axs[1].plot(freqa, n)\n",
    "    axs[0].grid(True)\n",
    "    axs[1].grid(True)\n",
    "    axs[1].set_xlabel(\"freq(MHz)\")\n",
    "    axs[0].set_ylabel(\"$\\eta$\")\n",
    "    axs[1].set_ylabel(\"index of refraction(n)\")\n",
    "    plt.savefig(filename+\"-eta-n.pdf\")\n",
    "    plt.close()\n",
    "    fig, ax = plt.subplots()\n",
    "    ax.plot(freqa[1:],vg)\n",
    "    ax.grid(True)\n",
    "    ax.set_xlabel(\"freq(MHz)\")\n",
    "    ax.set_ylabel(\"$v_g$(m/s)\")\n",
    "    ax.axhline(y=299792458, color='lightcoral', linestyle='--')\n",
    "    plt.savefig(filename+\"-vg.pdf\")\n",
    "    plt.close()\n",
    "plotData(eta,n,vg,freqa,\"sim\")\n",
    "plotData(etad,nd,vgd,freqa,\"simd\")"
   ]
  }
 ],
 "metadata": {
  "kernelspec": {
   "display_name": "Python 3",
   "language": "python",
   "name": "python3"
  },
  "language_info": {
   "codemirror_mode": {
    "name": "ipython",
    "version": 3
   },
   "file_extension": ".py",
   "mimetype": "text/x-python",
   "name": "python",
   "nbconvert_exporter": "python",
   "pygments_lexer": "ipython3",
   "version": "3.11.8"
  }
 },
 "nbformat": 4,
 "nbformat_minor": 2
}
